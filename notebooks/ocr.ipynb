{
 "cells": [
  {
   "cell_type": "markdown",
   "metadata": {},
   "source": [
    "# Building an OCR from scratch\n",
    "\n",
    "So in this tutorial, I will give you a basic code walkthrough for building a simple OCR. OCR as might know stands for optical character recognition or in layman terms it means text recognition. Text recognition is one of the classic problems in computer vision and is still relevant today. One of the most important applications of text recognition is the digitization of old manuscripts. Physical copies of books and manuscripts are prone to degradations. With time, the printed characters start to fade. On simple way to preserve such documents is to make a digital copy of it and store it in the cloud or local hard drive which would ensure their continuance. Similarly, text recognition can also be used for licence plate recognition and can also be used in forensics in terms of handwriting recognition. \n",
    "\n",
    "Okay, now that I have given you enough motivation as to why OCR is important, let me show you how you can build one. \n",
    "So first things first, I'll start with listing down some of the essential packages that you would need to build your first OCR. We will be working with PyTorch as it is one of the most efficient deep learning libraries present. The other packages are as follows:\n",
    "\n",
    "* Pytorch 1.5\n",
    "* Matplotlib\n",
    "* Tqdm\n",
    "* textdistance\n",
    "* lmdb\n",
    "\n",
    "You can install them either via a pip or conda. I will also be providing a requirements.txt file which you can find in my Github repo. Do a simple `pip install -r requirements` and you are set to go.\n",
    "\n",
    "## Setting up the Data\n",
    "\n",
    "We will start our project by importing the libraries. But before that we need data. Now, you are free to use any text image data you might like and for that, you might need to build your own data loader. However, in the interest of keeping things simple, we will be using a neat little package called `trdg`, which is a synthetic image generator for OCR. You can find all the relevant information regarding this package on its [github repository](https://github.com/Belval/TextRecognitionDataGenerator). You can generate printed as well as hand-written text images and infuse them with different kinds of noise and degradation. In this project, I have used trdg to generate printed word images of a single font. You can use any font you like. Just download a `.ttf` file for your font and while generating the word images be sure to specify the `-ft` parameter as your font file. \n",
    "\n",
    "You can generate the word images for training using the following commands:\n",
    "\n",
    "`trdg -i words.txt -c 20000 --output_dir data/train -ft your/fontfile`\n",
    "\n",
    "Here, `-c` refers to the number of word images you want to generate. `words.txt` file contains our input word vocabulary while `--output_dir` and `-ft` refer to the output and font file respectively. You can similarly generate the test word images for evaluating the performance of your OCR. However, ensure that words for training and testing are mutually exclusive to each other.\n"
   ]
  },
  {
   "cell_type": "markdown",
   "metadata": {},
   "source": [
    "Okay, now that we have generated the word images, let us display a few images using matlplotlib\n",
    "%# TODO diplay images from folder"
   ]
  },
  {
   "cell_type": "markdown",
   "metadata": {},
   "source": [
    "Now lets start importing the libraries that we would need to build our OCR"
   ]
  },
  {
   "cell_type": "code",
   "execution_count": 1,
   "metadata": {},
   "outputs": [
    {
     "name": "stderr",
     "output_type": "stream",
     "text": [
      "/home/tuannm/anaconda3/lib/python3.10/site-packages/torch/cuda/__init__.py:141: UserWarning: CUDA initialization: The NVIDIA driver on your system is too old (found version 11040). Please update your GPU driver by downloading and installing a new version from the URL: http://www.nvidia.com/Download/index.aspx Alternatively, go to: https://pytorch.org to install a PyTorch version that has been compiled with your version of the CUDA driver. (Triggered internally at ../c10/cuda/CUDAFunctions.cpp:108.)\n",
      "  return torch._C._cuda_getDeviceCount() > 0\n"
     ]
    }
   ],
   "source": [
    "import os\n",
    "import sys\n",
    "import pdb\n",
    "import six\n",
    "import random\n",
    "import lmdb\n",
    "from PIL import Image\n",
    "import numpy as np\n",
    "import math\n",
    "from collections import OrderedDict\n",
    "from itertools import chain\n",
    "import logging\n",
    "\n",
    "\n",
    "import torch\n",
    "import torch.nn as nn\n",
    "import torch.nn.functional as F\n",
    "from torch.utils.data import Dataset\n",
    "from torch.utils.data import sampler\n",
    "import torchvision.transforms as transforms\n",
    "from torch.optim.lr_scheduler import CosineAnnealingLR, StepLR\n",
    "from torch.nn.utils.clip_grad import clip_grad_norm_\n",
    "from torch.utils.data import random_split\n",
    "sys.path.insert(0, '../')\n",
    "from src.utils.utils import AverageMeter, Eval, OCRLabelConverter\n",
    "from src.utils.utils import EarlyStopping, gmkdir\n",
    "from src.optim.optimizer import STLR\n",
    "from src.utils.utils import gaussian\n",
    "from tqdm import *\n"
   ]
  },
  {
   "cell_type": "markdown",
   "metadata": {},
   "source": [
    "Next, let us create our data pipe-line. We do this by inheriting the PyTorch Dataset class. The Dataset class has few methods that we need to adhere to like the `__len__` and `__getitem__` method. The `__len__` method returns the number of items in our dataset while `__getitem_` returns the data item for the index passed. You can find more information on PyTorch Dataset class on PyTorch's official documentation page. \n",
    "\n",
    "You will observe that we first convert each image into grayscale and convert it into a tensor. This is followed by normalizing the images so that our input data lies within a range of [-1, 1]. We pass all such transformations into a list and later call the transforms to compose function provided by PyTorch. The transform Compose function applies each transformation in the pre-defined order."
   ]
  },
  {
   "cell_type": "code",
   "execution_count": 2,
   "metadata": {},
   "outputs": [],
   "source": [
    "class SynthDataset(Dataset):\n",
    "    def __init__(self, opt):\n",
    "        super(SynthDataset, self).__init__()\n",
    "        self.path = os.path.join(opt['path'], opt['imgdir'])\n",
    "        self.images = os.listdir(self.path)\n",
    "        self.nSamples = len(self.images)\n",
    "        f = lambda x: os.path.join(self.path, x)\n",
    "        self.imagepaths = list(map(f, self.images))\n",
    "       \ttransform_list =  [transforms.Grayscale(1),\n",
    "                            transforms.ToTensor(), \n",
    "                            transforms.Normalize((0.5,), (0.5,))]\n",
    "        self.transform = transforms.Compose(transform_list)\n",
    "        self.collate_fn = SynthCollator()\n",
    "\n",
    "    def __len__(self):\n",
    "        return self.nSamples\n",
    "\n",
    "    def __getitem__(self, index):\n",
    "        assert index <= len(self), 'index range error'\n",
    "        imagepath = self.imagepaths[index]\n",
    "        imagefile = os.path.basename(imagepath)\n",
    "        img = Image.open(imagepath)\n",
    "        if self.transform is not None:\n",
    "            img = self.transform(img)\n",
    "        item = {'img': img, 'idx':index}\n",
    "        item['label'] = imagefile.split('_')[0]\n",
    "        return item \n"
   ]
  },
  {
   "cell_type": "markdown",
   "metadata": {},
   "source": [
    "Next, since we are going to train our model using the mini-batch gradient descent, it is essential that each image in the batch is of the same shape and size. For this, we have defined the `SynthCollator` class which initially finds the image with maximum width in the batch and then proceeds to pad all images to have the same width. "
   ]
  },
  {
   "cell_type": "code",
   "execution_count": 3,
   "metadata": {},
   "outputs": [],
   "source": [
    "class SynthCollator(object):\n",
    "    \n",
    "    def __call__(self, batch):\n",
    "        width = [item['img'].shape[2] for item in batch]\n",
    "        indexes = [item['idx'] for item in batch]\n",
    "        imgs = torch.ones([len(batch), batch[0]['img'].shape[0], batch[0]['img'].shape[1], \n",
    "                           max(width)], dtype=torch.float32)\n",
    "        for idx, item in enumerate(batch):\n",
    "            try:\n",
    "                imgs[idx, :, :, 0:item['img'].shape[2]] = item['img']\n",
    "            except:\n",
    "                print(imgs.shape)\n",
    "        item = {'img': imgs, 'idx':indexes}\n",
    "        if 'label' in batch[0].keys():\n",
    "            labels = [item['label'] for item in batch]\n",
    "            item['label'] = labels\n",
    "        return item"
   ]
  },
  {
   "cell_type": "markdown",
   "metadata": {},
   "source": [
    "## Defining our Model\n",
    "\n",
    "Now we proceed to define our model. We use the CNN-LSTM based architecture which was proposed by Shi et.al. in their excellent paper [An End-to-End Trainable Neural Network for Image-based Sequence Recognition and Its Application to Scene Text Recognition](https://arxiv.org/pdf/1507.05717.pdf). The authors used it for scene-text recognition and showed via extensive experimentation that they were able to achieve significant gains in accuracy compared to all other existing methods at that time.\n",
    "\n",
    "\n",
    "<img src=\"images/crnn.png\" alt=\"drawing\" width=\"400\"/>\n",
    "\n",
    "The figure above shows the architecture used in the paper. The authors used a 7 layered Convolution network with BatchNorm and ReLU. This was followed by a stacked RNN network consisting of two Bidirectional LSTM layers. The convolution layers acted as a feature extractor while the LSTMs layers act as sequence classifiers. The LSTM layers output the probability associated with each output class at each time step\n",
    "Further details can be found in their paper and I strongly suggest you go through it for a better understanding.\n",
    "\n",
    "The below code snippet is taken from this [github repository](https://github.com/meijieru/crnn.pytorch) which provides a Pytorch implementation of their code.\n"
   ]
  },
  {
   "cell_type": "code",
   "execution_count": 4,
   "metadata": {},
   "outputs": [],
   "source": [
    "class BidirectionalLSTM(nn.Module):\n",
    "\n",
    "    def __init__(self, nIn, nHidden, nOut):\n",
    "        super(BidirectionalLSTM, self).__init__()\n",
    "        self.rnn = nn.LSTM(nIn, nHidden, bidirectional=True)\n",
    "        self.embedding = nn.Linear(nHidden * 2, nOut)\n",
    "    def forward(self, input):\n",
    "        # self.rnn.flatten_parameters()\n",
    "        recurrent, _ = self.rnn(input)\n",
    "        T, b, h = recurrent.size()\n",
    "        t_rec = recurrent.view(T * b, h)\n",
    "        output = self.embedding(t_rec)  # [T * b, nOut]\n",
    "        output = output.view(T, b, -1)\n",
    "        return output\n",
    "\n",
    "class CRNN(nn.Module):\n",
    "\n",
    "    def __init__(self, opt, leakyRelu=False):\n",
    "        super(CRNN, self).__init__()\n",
    "\n",
    "        assert opt['imgH'] % 16 == 0, 'imgH has to be a multiple of 16'\n",
    "\n",
    "        ks = [3, 3, 3, 3, 3, 3, 2]\n",
    "        ps = [1, 1, 1, 1, 1, 1, 0]\n",
    "        ss = [1, 1, 1, 1, 1, 1, 1]\n",
    "        nm = [64, 128, 256, 256, 512, 512, 512]\n",
    "\n",
    "        cnn = nn.Sequential()\n",
    "\n",
    "        def convRelu(i, batchNormalization=False):\n",
    "            nIn = opt['nChannels'] if i == 0 else nm[i - 1]\n",
    "            nOut = nm[i]\n",
    "            cnn.add_module('conv{0}'.format(i),\n",
    "                           nn.Conv2d(nIn, nOut, ks[i], ss[i], ps[i]))\n",
    "            if batchNormalization:\n",
    "                cnn.add_module('batchnorm{0}'.format(i), nn.BatchNorm2d(nOut))\n",
    "            if leakyRelu:\n",
    "                cnn.add_module('relu{0}'.format(i),\n",
    "                               nn.LeakyReLU(0.2, inplace=True))\n",
    "            else:\n",
    "                cnn.add_module('relu{0}'.format(i), nn.ReLU(True))\n",
    "\n",
    "        convRelu(0)\n",
    "        cnn.add_module('pooling{0}'.format(0), nn.MaxPool2d(2, 2))  # 64x16x64\n",
    "        convRelu(1)\n",
    "        cnn.add_module('pooling{0}'.format(1), nn.MaxPool2d(2, 2))  # 128x8x32\n",
    "        convRelu(2, True)\n",
    "        convRelu(3)\n",
    "        cnn.add_module('pooling{0}'.format(2),\n",
    "                       nn.MaxPool2d((2, 2), (2, 1), (0, 1)))  # 256x4x16\n",
    "        convRelu(4, True)\n",
    "        convRelu(5)\n",
    "        cnn.add_module('pooling{0}'.format(3),\n",
    "                       nn.MaxPool2d((2, 2), (2, 1), (0, 1)))  # 512x2x16\n",
    "        convRelu(6, True)  # 512x1x16\n",
    "        self.cnn = cnn\n",
    "        self.rnn = nn.Sequential()\n",
    "        self.rnn = nn.Sequential(\n",
    "            BidirectionalLSTM(opt['nHidden']*2, opt['nHidden'], opt['nHidden']),\n",
    "            BidirectionalLSTM(opt['nHidden'], opt['nHidden'], opt['nClasses']))\n",
    "\n",
    "\n",
    "    def forward(self, input):\n",
    "        # conv features\n",
    "        conv = self.cnn(input)\n",
    "        b, c, h, w = conv.size()\n",
    "        assert h == 1, \"the height of conv must be 1\"\n",
    "        conv = conv.squeeze(2)\n",
    "        conv = conv.permute(2, 0, 1)  # [w, b, c]\n",
    "        # rnn features\n",
    "        output = self.rnn(conv)\n",
    "        output = output.transpose(1,0) #Tbh to bth\n",
    "        return output"
   ]
  },
  {
   "cell_type": "markdown",
   "metadata": {},
   "source": [
    "## The CTC Loss \n",
    "\n",
    "Okay, now that we have our data and model pipeline ready, it is time to define our loss function which in our case is the CTC loss function. We will be using PyTorch's excellent CTC implementation. CTC stands for Connectionist Temporal Classification and was proposed by Alex Graves in his paper [Connectionist Temporal Classification: Labelling Unsegmented Sequence Data with Recurrent Neural Networks](https://www.cs.toronto.edu/~graves/icml_2006.pdf). \n",
    "\n",
    "Honestly, the above work has been a gamechanger for many sequences based tasks like speech and text recognition. For all the sequence-based tasks it is important for the input and output labels to be properly aligned. Proper alignment leads to efficient loss computation between the network predictions and expected output. In segmentation based approaches i.e. when the input word or line has been segmented into its constituent characters, there exists a direct one-to-one mapping between the segmented images of characters and the output labels.  However, as you might imagine obtaining such segmentations for each character can be a very tedious and time-consuming task. Thus, CTC based transcription layers have become the de-facto choice for OCRs and speech recognition module since it allows loss computation without explicit mapping between the input and output. The CTC layer takes the output from the LSTMs and computes a score with all possible alignments of the target label. The OCR is then trained to predict a sequence which maximizes the sum of all such scores.\n",
    "\n",
    "If you want more thorough details regarding the CTC layer I would suggest you go through the following blogs and lecture video\n",
    "\n",
    "* [CMU Deep Learning Course Lecture 14](https://www.youtube.com/watch?v=c86gfVGcvh4&t=670s)\n",
    "* [Sequence Labelling with CTC](https://distill.pub/2017/ctc)"
   ]
  },
  {
   "cell_type": "code",
   "execution_count": 5,
   "metadata": {},
   "outputs": [],
   "source": [
    "\n",
    "class CustomCTCLoss(torch.nn.Module):\n",
    "    # T x B x H => Softmax on dimension 2\n",
    "    def __init__(self, dim=2):\n",
    "        super().__init__()\n",
    "        self.dim = dim\n",
    "        self.ctc_loss = torch.nn.CTCLoss(reduction='mean', zero_infinity=True)\n",
    "\n",
    "    def forward(self, logits, labels,\n",
    "            prediction_sizes, target_sizes):\n",
    "        EPS = 1e-7\n",
    "        # print(logits.size(), labels.size(), prediction_sizes, target_sizes)\n",
    "        loss = self.ctc_loss(logits, labels, prediction_sizes, target_sizes)\n",
    "        # loss = self.sanitize(loss)\n",
    "        return self.debug(loss, logits, labels, prediction_sizes, target_sizes)\n",
    "    \n",
    "    def sanitize(self, loss):\n",
    "        EPS = 1e-7\n",
    "        if abs(loss.item() - float('inf')) < EPS:\n",
    "            print(\"NAHRY VÀO DAY !\")\n",
    "            return torch.zeros_like(loss).requires_grad_(True)\n",
    "        if math.isnan(loss.item()):\n",
    "            print(\"NHAY VAO DAY\")\n",
    "            return torch.zeros_like(loss).requires_grad_(True)\n",
    "        return loss\n",
    "\n",
    "    def debug(self, loss, logits, labels,\n",
    "            prediction_sizes, target_sizes):\n",
    "        if math.isnan(loss.item()):\n",
    "            print(\"Loss:\", loss)\n",
    "            print(\"logits:\", logits)\n",
    "            print(\"labels:\", labels)\n",
    "            print(\"prediction_sizes:\", prediction_sizes)\n",
    "            print(\"target_sizes:\", target_sizes)\n",
    "            raise Exception(\"NaN loss obtained. But why?\")\n",
    "        return loss"
   ]
  },
  {
   "cell_type": "markdown",
   "metadata": {},
   "source": [
    "## The Training Loop\n",
    "\n",
    "The above code snippet builds a wrapper around pytorch's CTC loss function. Basically, what it does is that it computes the loss and passes it through an additional method called `debug`, which checks for instances when the loss becomes Nan. \n",
    "\n",
    "Shout out to [Jerin Philip](https://jerinphilip.github.io/) for this code.\n",
    "\n",
    "Now, let us come to the training loop. The below code might look a bit cumbersome but it provides a nice abstraction which is quite intuitive and easy to use. The below code is based on [pytorch lighning](https://github.com/PyTorchLightning/pytorch-lightning)'s bolier plate template with few modifications of my own. :P\n",
    "\n",
    "I will give a basic overview of what it does. Feel free to inspect each method using python debugger. So, the `OCRTrainer` class takes in the training and validation data. It also takes in the loss function, optimizer and the number of epoch it needs to train the model. The train and validation loader method returns the data loader for the train and validation data. the `run_batch` method does one forward pass for a batch of image-label pairs. It returns the loss as well as the character and word accuracy. Next, we have the step functions which does the backpropagation, calculates the gradient and updates the parameters for each batch of data. Besides we also have the `training_end` and `validation_end` methods that calculate the mean loss and accuracy for each batch after the completion of one single epoch\n",
    "\n",
    "All, the methods defined are quite simple and I hope you will get the hang of it in no time."
   ]
  },
  {
   "cell_type": "code",
   "execution_count": 6,
   "metadata": {},
   "outputs": [],
   "source": [
    "class OCRTrainer(object):\n",
    "    def __init__(self, opt):\n",
    "        super(OCRTrainer, self).__init__()\n",
    "        self.data_train = opt['data_train']\n",
    "        self.data_val = opt['data_val']\n",
    "        self.model = opt['model']\n",
    "        self.criterion = opt['criterion']\n",
    "        self.optimizer = opt['optimizer']\n",
    "        self.schedule = opt['schedule']\n",
    "        self.converter = OCRLabelConverter(opt['alphabet'])\n",
    "        self.evaluator = Eval()\n",
    "        print('Scheduling is {}'.format(self.schedule))\n",
    "        self.scheduler = CosineAnnealingLR(self.optimizer, T_max=opt['epochs'])\n",
    "        self.batch_size = opt['batch_size']\n",
    "        self.count = opt['epoch']\n",
    "        self.epochs = opt['epochs']\n",
    "        self.cuda = opt['cuda']\n",
    "        self.collate_fn = opt['collate_fn']\n",
    "        self.init_meters()\n",
    "\n",
    "    def init_meters(self):\n",
    "        self.avgTrainLoss = AverageMeter(\"Train loss\")\n",
    "        self.avgTrainCharAccuracy = AverageMeter(\"Train Character Accuracy\")\n",
    "        self.avgTrainWordAccuracy = AverageMeter(\"Train Word Accuracy\")\n",
    "        self.avgValLoss = AverageMeter(\"Validation loss\")\n",
    "        self.avgValCharAccuracy = AverageMeter(\"Validation Character Accuracy\")\n",
    "        self.avgValWordAccuracy = AverageMeter(\"Validation Word Accuracy\")\n",
    "\n",
    "    def forward(self, x):\n",
    "        logits = self.model(x)\n",
    "        return logits.transpose(1, 0)\n",
    "\n",
    "    def loss_fn(self, logits, targets, pred_sizes, target_sizes):\n",
    "        loss = self.criterion(logits, targets, pred_sizes, target_sizes)\n",
    "        return loss\n",
    "\n",
    "    def step(self):\n",
    "        self.max_grad_norm = 0.05\n",
    "        clip_grad_norm_(self.model.parameters(), self.max_grad_norm)\n",
    "        self.optimizer.step()\n",
    "    \n",
    "    def schedule_lr(self):\n",
    "        if self.schedule:\n",
    "            self.scheduler.step()\n",
    "\n",
    "    def _run_batch(self, batch, report_accuracy=False, validation=False):\n",
    "        input_, targets = batch['img'], batch['label']\n",
    "        targets, lengths = self.converter.encode(targets)\n",
    "        logits = self.forward(input_)\n",
    "        logits = logits.contiguous().cpu()\n",
    "        # print(logits[0][0], \"CHECK\")\n",
    "        logits = torch.nn.functional.log_softmax(logits, 2)\n",
    "        T, B, H = logits.size()\n",
    "        pred_sizes = torch.LongTensor([T for i in range(B)])\n",
    "        targets= targets.view(-1).contiguous()\n",
    "        loss = self.loss_fn(logits, targets, pred_sizes, lengths)\n",
    "        if report_accuracy:\n",
    "            probs, preds = logits.max(2)\n",
    "            preds = preds.transpose(1, 0).contiguous().view(-1)\n",
    "            sim_preds = self.converter.decode(preds.data, pred_sizes.data, raw=False)\n",
    "            ca = np.mean((list(map(self.evaluator.char_accuracy, list(zip(sim_preds, batch['label']))))))\n",
    "            wa = np.mean((list(map(self.evaluator.word_accuracy, list(zip(sim_preds, batch['label']))))))\n",
    "        return loss, ca, wa\n",
    "\n",
    "    def run_epoch(self, validation=False):\n",
    "        if not validation:\n",
    "            loader = self.train_dataloader()\n",
    "            pbar = tqdm(loader, desc='Epoch: [%d]/[%d] Training'%(self.count, \n",
    "                self.epochs), leave=True)\n",
    "            self.model.train()\n",
    "        else:\n",
    "            loader = self.val_dataloader()\n",
    "            pbar = tqdm(loader, desc='Validating', leave=True)\n",
    "            self.model.eval()\n",
    "        outputs = []\n",
    "        for batch_nb, batch in enumerate(pbar):\n",
    "            if not validation:\n",
    "                output = self.training_step(batch)\n",
    "            else:\n",
    "                output = self.validation_step(batch)\n",
    "            pbar.set_postfix(output)\n",
    "            outputs.append(output)\n",
    "        self.schedule_lr()\n",
    "        if not validation:\n",
    "            result = self.train_end(outputs)\n",
    "        else:\n",
    "            result = self.validation_end(outputs)\n",
    "        return result\n",
    "\n",
    "    def training_step(self, batch):\n",
    "        loss, ca, wa = self._run_batch(batch, report_accuracy=True)\n",
    "        self.optimizer.zero_grad()\n",
    "        loss.backward()\n",
    "        self.step()\n",
    "        output = OrderedDict({\n",
    "            'loss': abs(loss.item()),\n",
    "            'train_ca': ca.item(),\n",
    "            'train_wa': wa.item()\n",
    "            })\n",
    "        return output\n",
    "\n",
    "    def validation_step(self, batch):\n",
    "        loss, ca, wa = self._run_batch(batch, report_accuracy=True, validation=True)\n",
    "        output = OrderedDict({\n",
    "            'val_loss': abs(loss.item()),\n",
    "            'val_ca': ca.item(),\n",
    "            'val_wa': wa.item()\n",
    "            })\n",
    "        return output\n",
    "\n",
    "    def train_dataloader(self):\n",
    "        # logging.info('training data loader called')\n",
    "        loader = torch.utils.data.DataLoader(self.data_train,\n",
    "                batch_size=self.batch_size,\n",
    "                collate_fn=self.collate_fn,\n",
    "                shuffle=True)\n",
    "        return loader\n",
    "        \n",
    "    def val_dataloader(self):\n",
    "        # logging.info('val data loader called')\n",
    "        loader = torch.utils.data.DataLoader(self.data_val,\n",
    "                batch_size=self.batch_size,\n",
    "                collate_fn=self.collate_fn)\n",
    "        return loader\n",
    "\n",
    "    def train_end(self, outputs):\n",
    "        for output in outputs:\n",
    "            self.avgTrainLoss.add(output['loss'])\n",
    "            self.avgTrainCharAccuracy.add(output['train_ca'])\n",
    "            self.avgTrainWordAccuracy.add(output['train_wa'])\n",
    "\n",
    "        train_loss_mean = abs(self.avgTrainLoss.compute())\n",
    "        train_ca_mean = self.avgTrainCharAccuracy.compute()\n",
    "        train_wa_mean = self.avgTrainWordAccuracy.compute()\n",
    "\n",
    "        result = {'train_loss': train_loss_mean, 'train_ca': train_ca_mean,\n",
    "        'train_wa': train_wa_mean}\n",
    "        # result = {'progress_bar': tqdm_dict, 'log': tqdm_dict, 'val_loss': train_loss_mean}\n",
    "        return result\n",
    "\n",
    "    def validation_end(self, outputs):\n",
    "        for output in outputs:\n",
    "            self.avgValLoss.add(output['val_loss'])\n",
    "            self.avgValCharAccuracy.add(output['val_ca'])\n",
    "            self.avgValWordAccuracy.add(output['val_wa'])\n",
    "\n",
    "        val_loss_mean = abs(self.avgValLoss.compute())\n",
    "        val_ca_mean = self.avgValCharAccuracy.compute()\n",
    "        val_wa_mean = self.avgValWordAccuracy.compute()\n",
    "\n",
    "        result = {'val_loss': val_loss_mean, 'val_ca': val_ca_mean,\n",
    "        'val_wa': val_wa_mean}\n",
    "        return result"
   ]
  },
  {
   "cell_type": "markdown",
   "metadata": {},
   "source": [
    "## Putting Everything Together\n",
    "\n",
    "And, finally, we have the `Learner` class. It implements a couple of more methods like the `save` and `load` model. It also tracks the losses and saves them in a `csv` file. This comes in handy if we want to analyze the behaviour of our training and validation loops. It initializes our `OCRTrainer` module with the necessary hyperparameters and later calls the `fit` method which runs the training loop.\n",
    "\n",
    "Besides these methods, we have a bunch of helper methods like the `OCRLabel_converter`, `Eval` and `Averagemeter`. I am not including them in this notebook, instead, I have written them in utils.py file and I am importing them from there. In case you want to take a peek, feel free to tinker with the utils.py file. All the necessary documentation is provided in the file itself."
   ]
  },
  {
   "cell_type": "code",
   "execution_count": 7,
   "metadata": {},
   "outputs": [],
   "source": [
    "class Learner(object):\n",
    "    def __init__(self, model, optimizer, savepath=None, resume=False):\n",
    "        self.model = model\n",
    "        self.optimizer = optimizer\n",
    "        self.savepath = os.path.join(savepath, 'best.ckpt')\n",
    "        self.cuda = torch.cuda.is_available() \n",
    "        self.cuda_count = torch.cuda.device_count()\n",
    "        if self.cuda:\n",
    "            self.model = self.model.cuda()\n",
    "        self.epoch = 0\n",
    "        if self.cuda_count > 1:\n",
    "            print(\"Let's use\", torch.cuda.device_count(), \"GPUs!\")\n",
    "            self.model = nn.DataParallel(self.model)\n",
    "        self.best_score = None\n",
    "        if resume and os.path.exists(self.savepath):\n",
    "            self.checkpoint = torch.load(self.savepath)\n",
    "            self.epoch = self.checkpoint['epoch']\n",
    "            self.best_score=self.checkpoint['best']\n",
    "            self.load()\n",
    "        else:\n",
    "            print('checkpoint does not exist')\n",
    "\n",
    "    def fit(self, opt):\n",
    "        opt['cuda'] = self.cuda\n",
    "        opt['model'] = self.model\n",
    "        opt['optimizer'] = self.optimizer\n",
    "        logging.basicConfig(filename=\"%s/%s.csv\" %(opt['log_dir'], opt['name']), level=logging.INFO)\n",
    "        self.saver = EarlyStopping(self.savepath, patience=15, verbose=True, best_score=self.best_score)\n",
    "        opt['epoch'] = self.epoch\n",
    "        trainer = OCRTrainer(opt)\n",
    "        \n",
    "        for epoch in range(opt['epoch'], opt['epochs']):\n",
    "            train_result = trainer.run_epoch()\n",
    "            val_result = trainer.run_epoch(validation=True)\n",
    "            trainer.count = epoch\n",
    "            info = '%d, %.6f, %.6f, %.6f, %.6f, %.6f, %.6f'%(epoch, train_result['train_loss'], \n",
    "                val_result['val_loss'], train_result['train_ca'],  val_result['val_ca'],\n",
    "                train_result['train_wa'], val_result['val_wa'])\n",
    "            logging.info(info)\n",
    "            self.val_loss = val_result['val_loss']\n",
    "            print(self.val_loss)\n",
    "            if self.savepath:\n",
    "                self.save(epoch)\n",
    "            if self.saver.early_stop:\n",
    "                print(\"Early stopping\")\n",
    "                break\n",
    "\n",
    "    def load(self):\n",
    "        print('Loading checkpoint at {} trained for {} epochs'.format(self.savepath, self.checkpoint['epoch']))\n",
    "        self.model.load_state_dict(self.checkpoint['state_dict'])\n",
    "        if 'opt_state_dict' in self.checkpoint.keys():\n",
    "            print('Loading optimizer')\n",
    "            self.optimizer.load_state_dict(self.checkpoint['opt_state_dict'])\n",
    "\n",
    "    def save(self, epoch):\n",
    "        self.saver(self.val_loss, epoch, self.model, self.optimizer)"
   ]
  },
  {
   "cell_type": "markdown",
   "metadata": {},
   "source": [
    "### Defining the hyperparameters\n",
    "\n",
    "Okay, now that we have set the premise, its time to unfold the drama. We begin by defining our vocabulary i.e. the alphabets which serve as the output classes for our model.\n",
    "We define a suitable name for this experiment which will also serve as the folder name where the checkpoints and log files will be stored. We also define the hyper-parameters like the batch size, learning rate, image height, number of channels etc.\n",
    "\n",
    "Then we initialize our Dataset class and split the data into train and validation. We then proceed to initialize our Model and CTCLoss and finally call the `learner.fit` function.\n",
    "\n",
    "Once the training is over we can find the saved model in the `checkpoints/name` folder. We may load the model and evaluate its performance on the test data or finetune it on some other data."
   ]
  },
  {
   "cell_type": "code",
   "execution_count": 8,
   "metadata": {},
   "outputs": [
    {
     "name": "stdout",
     "output_type": "stream",
     "text": [
      "Traininig Data Size:16000\n",
      "Val Data Size:4000\n",
      "checkpoint does not exist\n",
      "None\n",
      "Scheduling is True\n"
     ]
    },
    {
     "name": "stderr",
     "output_type": "stream",
     "text": [
      "Epoch: [0]/[50] Training:   0%|          | 0/500 [00:00<?, ?it/s]"
     ]
    },
    {
     "name": "stderr",
     "output_type": "stream",
     "text": [
      "Epoch: [0]/[50] Training: 100%|██████████| 500/500 [03:07<00:00,  2.66it/s, loss=3.86, train_ca=13.2, train_wa=0]     \n",
      "Validating: 100%|██████████| 125/125 [00:15<00:00,  7.95it/s, val_loss=3.94, val_ca=6.53, val_wa=0]    \n"
     ]
    },
    {
     "name": "stdout",
     "output_type": "stream",
     "text": [
      "4.017295711517334\n",
      "Validation loss decreased (inf --> 4.017296).  Saving model ...\n"
     ]
    },
    {
     "name": "stderr",
     "output_type": "stream",
     "text": [
      "Epoch: [0]/[50] Training: 100%|██████████| 500/500 [03:07<00:00,  2.67it/s, loss=3.31, train_ca=19.5, train_wa=0]     \n",
      "Validating: 100%|██████████| 125/125 [00:23<00:00,  5.38it/s, val_loss=3.5, val_ca=14.6, val_wa=0]      \n"
     ]
    },
    {
     "name": "stdout",
     "output_type": "stream",
     "text": [
      "3.6233081464767456\n",
      "Validation loss decreased (4.017296 --> 3.623308).  Saving model ...\n"
     ]
    },
    {
     "name": "stderr",
     "output_type": "stream",
     "text": [
      "Epoch: [1]/[50] Training: 100%|██████████| 500/500 [03:08<00:00,  2.65it/s, loss=2.4, train_ca=42.4, train_wa=0]      \n",
      "Validating: 100%|██████████| 125/125 [00:16<00:00,  7.56it/s, val_loss=2.93, val_ca=27.5, val_wa=0.0312]\n"
     ]
    },
    {
     "name": "stdout",
     "output_type": "stream",
     "text": [
      "3.301532267252604\n",
      "Validation loss decreased (3.623308 --> 3.301532).  Saving model ...\n"
     ]
    },
    {
     "name": "stderr",
     "output_type": "stream",
     "text": [
      "Epoch: [2]/[50] Training: 100%|██████████| 500/500 [03:02<00:00,  2.74it/s, loss=2.13, train_ca=42.1, train_wa=0]     \n",
      "Validating: 100%|██████████| 125/125 [00:15<00:00,  8.10it/s, val_loss=2.2, val_ca=45, val_wa=0.0625]   \n"
     ]
    },
    {
     "name": "stdout",
     "output_type": "stream",
     "text": [
      "2.998461526155472\n",
      "Validation loss decreased (3.301532 --> 2.998462).  Saving model ...\n"
     ]
    },
    {
     "name": "stderr",
     "output_type": "stream",
     "text": [
      "Epoch: [3]/[50] Training: 100%|██████████| 500/500 [03:01<00:00,  2.75it/s, loss=1.41, train_ca=59.6, train_wa=0.156] \n",
      "Validating: 100%|██████████| 125/125 [00:16<00:00,  7.80it/s, val_loss=1.46, val_ca=57.2, val_wa=0.125] \n"
     ]
    },
    {
     "name": "stdout",
     "output_type": "stream",
     "text": [
      "2.6926498975753783\n",
      "Validation loss decreased (2.998462 --> 2.692650).  Saving model ...\n"
     ]
    },
    {
     "name": "stderr",
     "output_type": "stream",
     "text": [
      "Epoch: [4]/[50] Training: 100%|██████████| 500/500 [02:57<00:00,  2.81it/s, loss=1.19, train_ca=65.4, train_wa=0.188] \n",
      "Validating: 100%|██████████| 125/125 [00:15<00:00,  7.84it/s, val_loss=1.34, val_ca=61.2, val_wa=0.188] \n"
     ]
    },
    {
     "name": "stdout",
     "output_type": "stream",
     "text": [
      "2.425635627905528\n",
      "Validation loss decreased (2.692650 --> 2.425636).  Saving model ...\n"
     ]
    },
    {
     "name": "stderr",
     "output_type": "stream",
     "text": [
      "Epoch: [5]/[50] Training: 100%|██████████| 500/500 [03:17<00:00,  2.53it/s, loss=0.897, train_ca=75.7, train_wa=0.312] \n",
      "Validating: 100%|██████████| 125/125 [00:19<00:00,  6.26it/s, val_loss=0.937, val_ca=75.7, val_wa=0.344]\n"
     ]
    },
    {
     "name": "stdout",
     "output_type": "stream",
     "text": [
      "2.201297013759613\n",
      "Validation loss decreased (2.425636 --> 2.201297).  Saving model ...\n"
     ]
    },
    {
     "name": "stderr",
     "output_type": "stream",
     "text": [
      "Epoch: [6]/[50] Training: 100%|██████████| 500/500 [03:16<00:00,  2.54it/s, loss=0.698, train_ca=73.9, train_wa=0.281] \n",
      "Validating: 100%|██████████| 125/125 [00:16<00:00,  7.52it/s, val_loss=0.795, val_ca=75.7, val_wa=0.375]\n"
     ]
    },
    {
     "name": "stdout",
     "output_type": "stream",
     "text": [
      "2.0145226396024225\n",
      "Validation loss decreased (2.201297 --> 2.014523).  Saving model ...\n"
     ]
    },
    {
     "name": "stderr",
     "output_type": "stream",
     "text": [
      "Epoch: [7]/[50] Training: 100%|██████████| 500/500 [03:09<00:00,  2.63it/s, loss=0.448, train_ca=85.8, train_wa=0.594]\n",
      "Validating: 100%|██████████| 125/125 [00:16<00:00,  7.63it/s, val_loss=0.763, val_ca=76.8, val_wa=0.375]\n"
     ]
    },
    {
     "name": "stdout",
     "output_type": "stream",
     "text": [
      "1.858990196413464\n",
      "Validation loss decreased (2.014523 --> 1.858990).  Saving model ...\n"
     ]
    },
    {
     "name": "stderr",
     "output_type": "stream",
     "text": [
      "Epoch: [8]/[50] Training: 100%|██████████| 500/500 [03:31<00:00,  2.36it/s, loss=0.316, train_ca=91, train_wa=0.656]  \n",
      "Validating: 100%|██████████| 125/125 [00:20<00:00,  6.16it/s, val_loss=0.573, val_ca=78.9, val_wa=0.344]\n"
     ]
    },
    {
     "name": "stdout",
     "output_type": "stream",
     "text": [
      "1.7268014526367188\n",
      "Validation loss decreased (1.858990 --> 1.726801).  Saving model ...\n"
     ]
    },
    {
     "name": "stderr",
     "output_type": "stream",
     "text": [
      "Epoch: [9]/[50] Training: 100%|██████████| 500/500 [03:11<00:00,  2.61it/s, loss=0.33, train_ca=86, train_wa=0.562]   \n",
      "Validating: 100%|██████████| 125/125 [00:18<00:00,  6.77it/s, val_loss=0.562, val_ca=80.5, val_wa=0.469]\n"
     ]
    },
    {
     "name": "stdout",
     "output_type": "stream",
     "text": [
      "1.6103497755527496\n",
      "Validation loss decreased (1.726801 --> 1.610350).  Saving model ...\n"
     ]
    },
    {
     "name": "stderr",
     "output_type": "stream",
     "text": [
      "Epoch: [10]/[50] Training: 100%|██████████| 500/500 [02:56<00:00,  2.83it/s, loss=0.357, train_ca=89.9, train_wa=0.656]\n",
      "Validating: 100%|██████████| 125/125 [00:16<00:00,  7.44it/s, val_loss=0.619, val_ca=83.9, val_wa=0.594]\n"
     ]
    },
    {
     "name": "stdout",
     "output_type": "stream",
     "text": [
      "1.5092125037809212\n",
      "Validation loss decreased (1.610350 --> 1.509213).  Saving model ...\n"
     ]
    },
    {
     "name": "stderr",
     "output_type": "stream",
     "text": [
      "Epoch: [11]/[50] Training: 100%|██████████| 500/500 [02:58<00:00,  2.80it/s, loss=0.255, train_ca=93.6, train_wa=0.781] \n",
      "Validating: 100%|██████████| 125/125 [00:15<00:00,  7.87it/s, val_loss=0.508, val_ca=83.9, val_wa=0.562]\n"
     ]
    },
    {
     "name": "stdout",
     "output_type": "stream",
     "text": [
      "1.4221107662549386\n",
      "Validation loss decreased (1.509213 --> 1.422111).  Saving model ...\n"
     ]
    },
    {
     "name": "stderr",
     "output_type": "stream",
     "text": [
      "Epoch: [12]/[50] Training: 100%|██████████| 500/500 [02:57<00:00,  2.82it/s, loss=0.101, train_ca=97.4, train_wa=0.938] \n",
      "Validating: 100%|██████████| 125/125 [00:15<00:00,  7.95it/s, val_loss=0.512, val_ca=87.3, val_wa=0.625]\n"
     ]
    },
    {
     "name": "stdout",
     "output_type": "stream",
     "text": [
      "1.3459435005698885\n",
      "Validation loss decreased (1.422111 --> 1.345944).  Saving model ...\n"
     ]
    },
    {
     "name": "stderr",
     "output_type": "stream",
     "text": [
      "Epoch: [13]/[50] Training: 100%|██████████| 500/500 [02:58<00:00,  2.80it/s, loss=0.102, train_ca=96.3, train_wa=0.844] \n",
      "Validating: 100%|██████████| 125/125 [00:16<00:00,  7.67it/s, val_loss=0.521, val_ca=84.2, val_wa=0.531]\n"
     ]
    },
    {
     "name": "stdout",
     "output_type": "stream",
     "text": [
      "1.280439239124457\n",
      "Validation loss decreased (1.345944 --> 1.280439).  Saving model ...\n"
     ]
    },
    {
     "name": "stderr",
     "output_type": "stream",
     "text": [
      "Epoch: [14]/[50] Training: 100%|██████████| 500/500 [03:00<00:00,  2.77it/s, loss=0.0552, train_ca=99.4, train_wa=0.969]\n",
      "Validating: 100%|██████████| 125/125 [00:16<00:00,  7.67it/s, val_loss=0.431, val_ca=86.2, val_wa=0.656]\n"
     ]
    },
    {
     "name": "stdout",
     "output_type": "stream",
     "text": [
      "1.2190991602130234\n",
      "Validation loss decreased (1.280439 --> 1.219099).  Saving model ...\n"
     ]
    },
    {
     "name": "stderr",
     "output_type": "stream",
     "text": [
      "Epoch: [15]/[50] Training: 100%|██████████| 500/500 [02:53<00:00,  2.88it/s, loss=0.0355, train_ca=99.2, train_wa=0.969]\n",
      "Validating: 100%|██████████| 125/125 [00:17<00:00,  7.29it/s, val_loss=0.352, val_ca=90.8, val_wa=0.656]\n"
     ]
    },
    {
     "name": "stdout",
     "output_type": "stream",
     "text": [
      "1.164036948077819\n",
      "Validation loss decreased (1.219099 --> 1.164037).  Saving model ...\n"
     ]
    },
    {
     "name": "stderr",
     "output_type": "stream",
     "text": [
      "Epoch: [16]/[50] Training: 100%|██████████| 500/500 [02:54<00:00,  2.86it/s, loss=0.0527, train_ca=98.3, train_wa=0.938] \n",
      "Validating: 100%|██████████| 125/125 [00:16<00:00,  7.75it/s, val_loss=0.407, val_ca=86, val_wa=0.625]   \n"
     ]
    },
    {
     "name": "stdout",
     "output_type": "stream",
     "text": [
      "1.1152420767214564\n",
      "Validation loss decreased (1.164037 --> 1.115242).  Saving model ...\n"
     ]
    },
    {
     "name": "stderr",
     "output_type": "stream",
     "text": [
      "Epoch: [17]/[50] Training: 100%|██████████| 500/500 [02:54<00:00,  2.87it/s, loss=0.0358, train_ca=97.9, train_wa=0.938]\n",
      "Validating: 100%|██████████| 125/125 [00:16<00:00,  7.65it/s, val_loss=0.381, val_ca=88.5, val_wa=0.656] \n"
     ]
    },
    {
     "name": "stdout",
     "output_type": "stream",
     "text": [
      "1.0711767632427969\n",
      "Validation loss decreased (1.115242 --> 1.071177).  Saving model ...\n"
     ]
    },
    {
     "name": "stderr",
     "output_type": "stream",
     "text": [
      "Epoch: [18]/[50] Training: 100%|██████████| 500/500 [02:51<00:00,  2.91it/s, loss=0.0164, train_ca=100, train_wa=1]     \n",
      "Validating: 100%|██████████| 125/125 [00:15<00:00,  8.01it/s, val_loss=0.422, val_ca=86.8, val_wa=0.656] \n"
     ]
    },
    {
     "name": "stdout",
     "output_type": "stream",
     "text": [
      "1.0311690029472114\n",
      "Validation loss decreased (1.071177 --> 1.031169).  Saving model ...\n"
     ]
    },
    {
     "name": "stderr",
     "output_type": "stream",
     "text": [
      "Epoch: [19]/[50] Training: 100%|██████████| 500/500 [02:48<00:00,  2.97it/s, loss=0.0116, train_ca=100, train_wa=1]      \n",
      "Validating: 100%|██████████| 125/125 [00:15<00:00,  8.32it/s, val_loss=0.376, val_ca=87.1, val_wa=0.656] \n"
     ]
    },
    {
     "name": "stdout",
     "output_type": "stream",
     "text": [
      "0.9948611125775746\n",
      "Validation loss decreased (1.031169 --> 0.994861).  Saving model ...\n"
     ]
    },
    {
     "name": "stderr",
     "output_type": "stream",
     "text": [
      "Epoch: [20]/[50] Training: 100%|██████████| 500/500 [02:50<00:00,  2.93it/s, loss=0.0083, train_ca=100, train_wa=1]      \n",
      "Validating: 100%|██████████| 125/125 [00:15<00:00,  7.98it/s, val_loss=0.388, val_ca=86.6, val_wa=0.656] \n"
     ]
    },
    {
     "name": "stdout",
     "output_type": "stream",
     "text": [
      "0.9616432905224237\n",
      "Validation loss decreased (0.994861 --> 0.961643).  Saving model ...\n"
     ]
    },
    {
     "name": "stderr",
     "output_type": "stream",
     "text": [
      "Epoch: [21]/[50] Training: 100%|██████████| 500/500 [02:46<00:00,  2.99it/s, loss=0.00341, train_ca=100, train_wa=1]     \n",
      "Validating: 100%|██████████| 125/125 [00:15<00:00,  8.25it/s, val_loss=0.387, val_ca=86.6, val_wa=0.625] \n"
     ]
    },
    {
     "name": "stdout",
     "output_type": "stream",
     "text": [
      "0.9314802233602689\n",
      "Validation loss decreased (0.961643 --> 0.931480).  Saving model ...\n"
     ]
    },
    {
     "name": "stderr",
     "output_type": "stream",
     "text": [
      "Epoch: [22]/[50] Training: 100%|██████████| 500/500 [02:48<00:00,  2.96it/s, loss=0.00689, train_ca=100, train_wa=1]     \n",
      "Validating: 100%|██████████| 125/125 [00:15<00:00,  8.05it/s, val_loss=0.382, val_ca=87.7, val_wa=0.656] \n"
     ]
    },
    {
     "name": "stdout",
     "output_type": "stream",
     "text": [
      "0.9037974762370189\n",
      "Validation loss decreased (0.931480 --> 0.903797).  Saving model ...\n"
     ]
    },
    {
     "name": "stderr",
     "output_type": "stream",
     "text": [
      "Epoch: [23]/[50] Training: 100%|██████████| 500/500 [02:51<00:00,  2.91it/s, loss=0.00551, train_ca=100, train_wa=1]     \n",
      "Validating: 100%|██████████| 125/125 [00:15<00:00,  7.84it/s, val_loss=0.392, val_ca=87.9, val_wa=0.656] \n"
     ]
    },
    {
     "name": "stdout",
     "output_type": "stream",
     "text": [
      "0.8783505132722854\n",
      "Validation loss decreased (0.903797 --> 0.878351).  Saving model ...\n"
     ]
    },
    {
     "name": "stderr",
     "output_type": "stream",
     "text": [
      "Epoch: [24]/[50] Training: 100%|██████████| 500/500 [02:48<00:00,  2.97it/s, loss=0.0048, train_ca=100, train_wa=1]      \n",
      "Validating: 100%|██████████| 125/125 [00:15<00:00,  8.25it/s, val_loss=0.386, val_ca=88.6, val_wa=0.688] \n"
     ]
    },
    {
     "name": "stdout",
     "output_type": "stream",
     "text": [
      "0.8548298380890718\n",
      "Validation loss decreased (0.878351 --> 0.854830).  Saving model ...\n"
     ]
    },
    {
     "name": "stderr",
     "output_type": "stream",
     "text": [
      "Epoch: [25]/[50] Training: 100%|██████████| 500/500 [02:47<00:00,  2.99it/s, loss=0.00284, train_ca=100, train_wa=1]     \n",
      "Validating: 100%|██████████| 125/125 [00:15<00:00,  8.22it/s, val_loss=0.393, val_ca=88.3, val_wa=0.688] \n"
     ]
    },
    {
     "name": "stdout",
     "output_type": "stream",
     "text": [
      "0.833100986165029\n",
      "Validation loss decreased (0.854830 --> 0.833101).  Saving model ...\n"
     ]
    },
    {
     "name": "stderr",
     "output_type": "stream",
     "text": [
      "Epoch: [26]/[50] Training: 100%|██████████| 500/500 [02:47<00:00,  2.99it/s, loss=0.00306, train_ca=100, train_wa=1]     \n",
      "Validating: 100%|██████████| 125/125 [00:15<00:00,  8.13it/s, val_loss=0.385, val_ca=87.7, val_wa=0.656] \n"
     ]
    },
    {
     "name": "stdout",
     "output_type": "stream",
     "text": [
      "0.8128585416919418\n",
      "Validation loss decreased (0.833101 --> 0.812859).  Saving model ...\n"
     ]
    },
    {
     "name": "stderr",
     "output_type": "stream",
     "text": [
      "Epoch: [27]/[50] Training: 100%|██████████| 500/500 [02:46<00:00,  3.00it/s, loss=0.00458, train_ca=100, train_wa=1]     \n",
      "Validating: 100%|██████████| 125/125 [00:15<00:00,  8.12it/s, val_loss=0.401, val_ca=87.1, val_wa=0.656] \n"
     ]
    },
    {
     "name": "stdout",
     "output_type": "stream",
     "text": [
      "0.7941984863055164\n",
      "Validation loss decreased (0.812859 --> 0.794198).  Saving model ...\n"
     ]
    },
    {
     "name": "stderr",
     "output_type": "stream",
     "text": [
      "Epoch: [28]/[50] Training: 100%|██████████| 500/500 [02:48<00:00,  2.97it/s, loss=0.00592, train_ca=100, train_wa=1]     \n",
      "Validating: 100%|██████████| 125/125 [00:15<00:00,  7.97it/s, val_loss=0.419, val_ca=86.6, val_wa=0.656] \n"
     ]
    },
    {
     "name": "stdout",
     "output_type": "stream",
     "text": [
      "0.7768770964741707\n",
      "Validation loss decreased (0.794198 --> 0.776877).  Saving model ...\n"
     ]
    },
    {
     "name": "stderr",
     "output_type": "stream",
     "text": [
      "Epoch: [29]/[50] Training: 100%|██████████| 500/500 [02:48<00:00,  2.97it/s, loss=0.00173, train_ca=100, train_wa=1]     \n",
      "Validating: 100%|██████████| 125/125 [00:15<00:00,  8.23it/s, val_loss=0.427, val_ca=88.4, val_wa=0.656] \n"
     ]
    },
    {
     "name": "stdout",
     "output_type": "stream",
     "text": [
      "0.7608468893641426\n",
      "Validation loss decreased (0.776877 --> 0.760847).  Saving model ...\n"
     ]
    },
    {
     "name": "stderr",
     "output_type": "stream",
     "text": [
      "Epoch: [30]/[50] Training: 100%|██████████| 500/500 [02:46<00:00,  3.00it/s, loss=0.00263, train_ca=100, train_wa=1]     \n",
      "Validating: 100%|██████████| 125/125 [00:15<00:00,  8.16it/s, val_loss=0.424, val_ca=87.8, val_wa=0.688] \n"
     ]
    },
    {
     "name": "stdout",
     "output_type": "stream",
     "text": [
      "0.7459909190274775\n",
      "Validation loss decreased (0.760847 --> 0.745991).  Saving model ...\n"
     ]
    },
    {
     "name": "stderr",
     "output_type": "stream",
     "text": [
      "Epoch: [31]/[50] Training: 100%|██████████| 500/500 [02:48<00:00,  2.97it/s, loss=0.00553, train_ca=100, train_wa=1]     \n",
      "Validating: 100%|██████████| 125/125 [00:15<00:00,  8.18it/s, val_loss=0.462, val_ca=90.5, val_wa=0.688] \n"
     ]
    },
    {
     "name": "stdout",
     "output_type": "stream",
     "text": [
      "0.7329023108635888\n",
      "Validation loss decreased (0.745991 --> 0.732902).  Saving model ...\n"
     ]
    },
    {
     "name": "stderr",
     "output_type": "stream",
     "text": [
      "Epoch: [32]/[50] Training: 100%|██████████| 500/500 [02:47<00:00,  2.99it/s, loss=0.0157, train_ca=99.4, train_wa=0.969] \n",
      "Validating: 100%|██████████| 125/125 [00:15<00:00,  8.18it/s, val_loss=0.454, val_ca=90.3, val_wa=0.719]\n"
     ]
    },
    {
     "name": "stdout",
     "output_type": "stream",
     "text": [
      "0.7208325607119238\n",
      "Validation loss decreased (0.732902 --> 0.720833).  Saving model ...\n"
     ]
    },
    {
     "name": "stderr",
     "output_type": "stream",
     "text": [
      "Epoch: [33]/[50] Training: 100%|██████████| 500/500 [02:49<00:00,  2.95it/s, loss=0.0156, train_ca=99.7, train_wa=0.969] \n",
      "Validating: 100%|██████████| 125/125 [00:15<00:00,  8.20it/s, val_loss=0.514, val_ca=89.2, val_wa=0.656]\n"
     ]
    },
    {
     "name": "stdout",
     "output_type": "stream",
     "text": [
      "0.7095870000183583\n",
      "Validation loss decreased (0.720833 --> 0.709587).  Saving model ...\n"
     ]
    },
    {
     "name": "stderr",
     "output_type": "stream",
     "text": [
      "Epoch: [34]/[50] Training: 100%|██████████| 500/500 [02:48<00:00,  2.97it/s, loss=0.0277, train_ca=98.6, train_wa=0.938] \n",
      "Validating: 100%|██████████| 125/125 [00:15<00:00,  8.20it/s, val_loss=0.499, val_ca=88.6, val_wa=0.656] \n"
     ]
    },
    {
     "name": "stdout",
     "output_type": "stream",
     "text": [
      "0.6996272429848711\n",
      "Validation loss decreased (0.709587 --> 0.699627).  Saving model ...\n"
     ]
    },
    {
     "name": "stderr",
     "output_type": "stream",
     "text": [
      "Epoch: [35]/[50] Training: 100%|██████████| 500/500 [02:48<00:00,  2.96it/s, loss=0.0304, train_ca=99.2, train_wa=0.969] \n",
      "Validating: 100%|██████████| 125/125 [00:15<00:00,  8.30it/s, val_loss=0.468, val_ca=91.2, val_wa=0.719]\n"
     ]
    },
    {
     "name": "stdout",
     "output_type": "stream",
     "text": [
      "0.6901763746794817\n",
      "Validation loss decreased (0.699627 --> 0.690176).  Saving model ...\n"
     ]
    },
    {
     "name": "stderr",
     "output_type": "stream",
     "text": [
      "Epoch: [36]/[50] Training: 100%|██████████| 500/500 [02:49<00:00,  2.96it/s, loss=0.0482, train_ca=98.9, train_wa=0.938] \n",
      "Validating: 100%|██████████| 125/125 [00:15<00:00,  8.02it/s, val_loss=0.55, val_ca=87.4, val_wa=0.656]  \n"
     ]
    },
    {
     "name": "stdout",
     "output_type": "stream",
     "text": [
      "0.6811446336562696\n",
      "Validation loss decreased (0.690176 --> 0.681145).  Saving model ...\n"
     ]
    },
    {
     "name": "stderr",
     "output_type": "stream",
     "text": [
      "Epoch: [37]/[50] Training: 100%|██████████| 500/500 [02:49<00:00,  2.95it/s, loss=0.056, train_ca=97.7, train_wa=0.875] \n",
      "Validating: 100%|██████████| 125/125 [00:15<00:00,  8.15it/s, val_loss=0.527, val_ca=86.6, val_wa=0.625] \n"
     ]
    },
    {
     "name": "stdout",
     "output_type": "stream",
     "text": [
      "0.6727169382916047\n",
      "Validation loss decreased (0.681145 --> 0.672717).  Saving model ...\n"
     ]
    },
    {
     "name": "stderr",
     "output_type": "stream",
     "text": [
      "Epoch: [38]/[50] Training: 100%|██████████| 500/500 [02:56<00:00,  2.83it/s, loss=0.0557, train_ca=98.7, train_wa=0.938]\n",
      "Validating: 100%|██████████| 125/125 [00:15<00:00,  8.27it/s, val_loss=0.614, val_ca=88.3, val_wa=0.656]\n"
     ]
    },
    {
     "name": "stdout",
     "output_type": "stream",
     "text": [
      "0.6649607241995633\n",
      "Validation loss decreased (0.672717 --> 0.664961).  Saving model ...\n"
     ]
    },
    {
     "name": "stderr",
     "output_type": "stream",
     "text": [
      "Epoch: [39]/[50] Training: 100%|██████████| 500/500 [02:48<00:00,  2.97it/s, loss=0.031, train_ca=98.4, train_wa=0.969] \n",
      "Validating: 100%|██████████| 125/125 [00:15<00:00,  8.22it/s, val_loss=0.549, val_ca=89.3, val_wa=0.688]\n"
     ]
    },
    {
     "name": "stdout",
     "output_type": "stream",
     "text": [
      "0.6581539768423976\n",
      "Validation loss decreased (0.664961 --> 0.658154).  Saving model ...\n"
     ]
    },
    {
     "name": "stderr",
     "output_type": "stream",
     "text": [
      "Epoch: [40]/[50] Training: 100%|██████████| 500/500 [02:48<00:00,  2.97it/s, loss=0.0329, train_ca=98.3, train_wa=0.906]\n",
      "Validating: 100%|██████████| 125/125 [00:15<00:00,  8.24it/s, val_loss=0.464, val_ca=90.2, val_wa=0.719]\n"
     ]
    },
    {
     "name": "stdout",
     "output_type": "stream",
     "text": [
      "0.6516802120797691\n",
      "Validation loss decreased (0.658154 --> 0.651680).  Saving model ...\n"
     ]
    },
    {
     "name": "stderr",
     "output_type": "stream",
     "text": [
      "Epoch: [41]/[50] Training: 100%|██████████| 500/500 [02:46<00:00,  2.99it/s, loss=0.0914, train_ca=96.9, train_wa=0.844]\n",
      "Validating: 100%|██████████| 125/125 [00:15<00:00,  8.30it/s, val_loss=0.456, val_ca=91.6, val_wa=0.719]\n"
     ]
    },
    {
     "name": "stdout",
     "output_type": "stream",
     "text": [
      "0.6450974775850773\n",
      "Validation loss decreased (0.651680 --> 0.645097).  Saving model ...\n"
     ]
    },
    {
     "name": "stderr",
     "output_type": "stream",
     "text": [
      "Epoch: [42]/[50] Training: 100%|██████████| 500/500 [02:47<00:00,  2.98it/s, loss=0.0922, train_ca=96.4, train_wa=0.875]\n",
      "Validating: 100%|██████████| 125/125 [00:15<00:00,  8.03it/s, val_loss=0.621, val_ca=86.9, val_wa=0.656]\n"
     ]
    },
    {
     "name": "stdout",
     "output_type": "stream",
     "text": [
      "0.6383532467938282\n",
      "Validation loss decreased (0.645097 --> 0.638353).  Saving model ...\n"
     ]
    },
    {
     "name": "stderr",
     "output_type": "stream",
     "text": [
      "Epoch: [43]/[50] Training: 100%|██████████| 500/500 [02:53<00:00,  2.88it/s, loss=0.0963, train_ca=96.2, train_wa=0.812]\n",
      "Validating: 100%|██████████| 125/125 [00:16<00:00,  7.65it/s, val_loss=0.489, val_ca=88.7, val_wa=0.625] \n"
     ]
    },
    {
     "name": "stdout",
     "output_type": "stream",
     "text": [
      "0.632452456239197\n",
      "Validation loss decreased (0.638353 --> 0.632452).  Saving model ...\n"
     ]
    },
    {
     "name": "stderr",
     "output_type": "stream",
     "text": [
      "Epoch: [44]/[50] Training: 100%|██████████| 500/500 [03:05<00:00,  2.70it/s, loss=0.0525, train_ca=99, train_wa=0.969]  \n",
      "Validating: 100%|██████████| 125/125 [00:16<00:00,  7.52it/s, val_loss=0.788, val_ca=85.7, val_wa=0.594]\n"
     ]
    },
    {
     "name": "stdout",
     "output_type": "stream",
     "text": [
      "0.6283304409935423\n",
      "Validation loss decreased (0.632452 --> 0.628330).  Saving model ...\n"
     ]
    },
    {
     "name": "stderr",
     "output_type": "stream",
     "text": [
      "Epoch: [45]/[50] Training: 100%|██████████| 500/500 [03:03<00:00,  2.73it/s, loss=0.14, train_ca=95.5, train_wa=0.844]  \n",
      "Validating: 100%|██████████| 125/125 [00:16<00:00,  7.53it/s, val_loss=0.677, val_ca=86.6, val_wa=0.625]\n"
     ]
    },
    {
     "name": "stdout",
     "output_type": "stream",
     "text": [
      "0.6225020204142053\n",
      "Validation loss decreased (0.628330 --> 0.622502).  Saving model ...\n"
     ]
    },
    {
     "name": "stderr",
     "output_type": "stream",
     "text": [
      "Epoch: [46]/[50] Training: 100%|██████████| 500/500 [03:03<00:00,  2.72it/s, loss=0.168, train_ca=95.8, train_wa=0.844] \n",
      "Validating: 100%|██████████| 125/125 [00:17<00:00,  7.15it/s, val_loss=0.689, val_ca=85.4, val_wa=0.625] \n"
     ]
    },
    {
     "name": "stdout",
     "output_type": "stream",
     "text": [
      "0.6183083927513411\n",
      "Validation loss decreased (0.622502 --> 0.618308).  Saving model ...\n"
     ]
    },
    {
     "name": "stderr",
     "output_type": "stream",
     "text": [
      "Epoch: [47]/[50] Training: 100%|██████████| 500/500 [03:02<00:00,  2.74it/s, loss=0.146, train_ca=94.4, train_wa=0.812] \n",
      "Validating: 100%|██████████| 125/125 [00:15<00:00,  7.84it/s, val_loss=0.518, val_ca=89.6, val_wa=0.656]\n"
     ]
    },
    {
     "name": "stdout",
     "output_type": "stream",
     "text": [
      "0.6124623138533563\n",
      "Validation loss decreased (0.618308 --> 0.612462).  Saving model ...\n"
     ]
    },
    {
     "name": "stderr",
     "output_type": "stream",
     "text": [
      "Epoch: [48]/[50] Training: 100%|██████████| 500/500 [03:00<00:00,  2.77it/s, loss=0.114, train_ca=96.6, train_wa=0.844] \n",
      "Validating: 100%|██████████| 125/125 [00:16<00:00,  7.71it/s, val_loss=0.563, val_ca=89.3, val_wa=0.688]\n"
     ]
    },
    {
     "name": "stdout",
     "output_type": "stream",
     "text": [
      "0.6080002613610029\n",
      "Validation loss decreased (0.612462 --> 0.608000).  Saving model ...\n"
     ]
    }
   ],
   "source": [
    "alphabet = \"\"\"AÀÁẢÃẠaàáảãạĂẰẮẲẴẶăằắẳẵặÂẦẤẨẪẬâầấẩẫậBbCcDdĐđEÈÉẺẼẸeèéẻẽẹÊỀẾỂỄỆêềếểễệGgHhIÌÍỈĨỊiìíỉĩịKkLlMmNnOÒÓỎÕỌoòóỏõọÔỒỐỔỖỘôồốổỗộƠỜỚỞỠỢơờớởỡợPpQqRrSsTtUÙÚỦŨỤuùúủũụƯỪỨỬỮỰưừứửữựVvXxYỲÝỶỸỴyỳýỷỹỵZz0123456789jJwWfF\"\"\"\n",
    "args = {\n",
    "    'name':'exp1',\n",
    "    'path':'../data',\n",
    "    'imgdir': 'train',\n",
    "    'imgH':32,\n",
    "    'nChannels':1,\n",
    "    'nHidden':256,\n",
    "    'nClasses':len(alphabet) + 1 + 1,\n",
    "    'lr':0.001,\n",
    "    'epochs': 50,\n",
    "    'batch_size':32,\n",
    "    'save_dir':'../checkpoints/',\n",
    "    'log_dir':'../logs',\n",
    "    'resume':False,\n",
    "    'cuda':False,\n",
    "    'schedule':True\n",
    "    \n",
    "}\n",
    "\n",
    "data = SynthDataset(args)\n",
    "args['collate_fn'] = SynthCollator()\n",
    "train_split = int(0.8*len(data))\n",
    "val_split = len(data) - train_split\n",
    "args['data_train'], args['data_val'] = random_split(data, (train_split, val_split))\n",
    "print('Traininig Data Size:{}\\nVal Data Size:{}'.format(\n",
    "    len(args['data_train']), len(args['data_val'])))\n",
    "args['alphabet'] = alphabet\n",
    "model = CRNN(args)\n",
    "args['criterion'] = CustomCTCLoss()\n",
    "savepath = os.path.join(args['save_dir'], args['name'])\n",
    "gmkdir(savepath)\n",
    "gmkdir(args['log_dir'])\n",
    "optimizer = torch.optim.Adam(model.parameters(), lr=args['lr'])\n",
    "learner = Learner(model, optimizer, savepath=savepath, resume=args['resume'])\n",
    "learner.fit(args)"
   ]
  },
  {
   "cell_type": "markdown",
   "metadata": {},
   "source": [
    "## Evaluation and testing"
   ]
  },
  {
   "cell_type": "code",
   "execution_count": 9,
   "metadata": {},
   "outputs": [],
   "source": [
    "import matplotlib.pyplot as plt\n",
    "from torchvision.utils import make_grid"
   ]
  },
  {
   "cell_type": "code",
   "execution_count": 10,
   "metadata": {},
   "outputs": [],
   "source": [
    "device = torch.device(\"cuda:0\" if torch.cuda.is_available() else \"cpu\")\n",
    "def get_accuracy(args):\n",
    "    loader = torch.utils.data.DataLoader(args['data'],\n",
    "                batch_size=args['batch_size'],\n",
    "                collate_fn=args['collate_fn'])\n",
    "    model = args['model']\n",
    "    model.eval()\n",
    "    converter = OCRLabelConverter(args['alphabet'])\n",
    "    evaluator = Eval()\n",
    "    labels, predictions, images = [], [], []\n",
    "    for iteration, batch in enumerate(tqdm(loader)):\n",
    "        input_, targets = batch['img'].to(device), batch['label']\n",
    "        images.extend(input_.squeeze().detach())\n",
    "        labels.extend(targets)\n",
    "        targets, lengths = converter.encode(targets)\n",
    "        logits = model(input_).transpose(1, 0)\n",
    "        logits = torch.nn.functional.log_softmax(logits, 2)\n",
    "        logits = logits.contiguous().cpu()\n",
    "        T, B, H = logits.size()\n",
    "        pred_sizes = torch.LongTensor([T for i in range(B)])\n",
    "        probs, pos = logits.max(2)\n",
    "        pos = pos.transpose(1, 0).contiguous().view(-1)\n",
    "        sim_preds = converter.decode(pos.data, pred_sizes.data, raw=False)\n",
    "        predictions.extend(sim_preds)\n",
    "        \n",
    "#     make_grid(images[:10], nrow=2)\n",
    "    fig=plt.figure(figsize=(8, 8))\n",
    "    columns = 4\n",
    "    rows = 5\n",
    "    pairs = list(zip(images, predictions))\n",
    "    indices = np.random.permutation(len(pairs))\n",
    "    for i in range(1, columns*rows +1):\n",
    "        img = images[indices[i]]\n",
    "        img = (img - img.min())/(img.max() - img.min())\n",
    "        img = np.array(img * 255.0, dtype=np.uint8)\n",
    "        fig.add_subplot(rows, columns, i)\n",
    "        plt.title(predictions[indices[i]])\n",
    "        plt.axis('off')\n",
    "        plt.imshow(img)\n",
    "    plt.show()\n",
    "    ca = np.mean((list(map(evaluator.char_accuracy, list(zip(predictions, labels))))))\n",
    "    wa = np.mean((list(map(evaluator.word_accuracy_line, list(zip(predictions, labels))))))\n",
    "    return ca, wa\n"
   ]
  },
  {
   "cell_type": "code",
   "execution_count": 11,
   "metadata": {},
   "outputs": [
    {
     "name": "stdout",
     "output_type": "stream",
     "text": [
      "Loading model ../checkpoints/exp1/best.ckpt\n"
     ]
    },
    {
     "name": "stderr",
     "output_type": "stream",
     "text": [
      "100%|██████████| 63/63 [00:09<00:00,  6.41it/s]\n"
     ]
    },
    {
     "data": {
      "image/png": "[encoded data removed]",
      "text/plain": [
       "<Figure size 800x800 with 20 Axes>"
      ]
     },
     "metadata": {},
     "output_type": "display_data"
    },
    {
     "name": "stderr",
     "output_type": "stream",
     "text": [
      "/home/tuannm/anaconda3/lib/python3.10/site-packages/numpy/core/fromnumeric.py:3432: RuntimeWarning: Mean of empty slice.\n",
      "  return _methods._mean(a, axis=axis, dtype=dtype,\n",
      "/home/tuannm/anaconda3/lib/python3.10/site-packages/numpy/core/_methods.py:190: RuntimeWarning: invalid value encountered in double_scalars\n",
      "  ret = ret.dtype.type(ret / rcount)\n"
     ]
    },
    {
     "ename": "IndexError",
     "evalue": "list index out of range",
     "output_type": "error",
     "traceback": [
      "\u001b[0;31m---------------------------------------------------------------------------\u001b[0m",
      "\u001b[0;31mIndexError\u001b[0m                                Traceback (most recent call last)",
      "\u001b[1;32m/home/tuannm/sonhoang/Vietnamese-OCR-from-scratch-pytorch/notebooks/ocr.ipynb Cell 22\u001b[0m line \u001b[0;36m9\n\u001b[1;32m      <a href='vscode-notebook-cell:/home/tuannm/sonhoang/Vietnamese-OCR-from-scratch-pytorch/notebooks/ocr.ipynb#X30sZmlsZQ%3D%3D?line=6'>7</a>\u001b[0m     model\u001b[39m.\u001b[39mload_state_dict(checkpoint[\u001b[39m'\u001b[39m\u001b[39mstate_dict\u001b[39m\u001b[39m'\u001b[39m])\n\u001b[1;32m      <a href='vscode-notebook-cell:/home/tuannm/sonhoang/Vietnamese-OCR-from-scratch-pytorch/notebooks/ocr.ipynb#X30sZmlsZQ%3D%3D?line=7'>8</a>\u001b[0m     args[\u001b[39m'\u001b[39m\u001b[39mmodel\u001b[39m\u001b[39m'\u001b[39m] \u001b[39m=\u001b[39m model\n\u001b[0;32m----> <a href='vscode-notebook-cell:/home/tuannm/sonhoang/Vietnamese-OCR-from-scratch-pytorch/notebooks/ocr.ipynb#X30sZmlsZQ%3D%3D?line=8'>9</a>\u001b[0m     ca, wa \u001b[39m=\u001b[39m get_accuracy(args)\n\u001b[1;32m     <a href='vscode-notebook-cell:/home/tuannm/sonhoang/Vietnamese-OCR-from-scratch-pytorch/notebooks/ocr.ipynb#X30sZmlsZQ%3D%3D?line=9'>10</a>\u001b[0m     \u001b[39mprint\u001b[39m(\u001b[39m\"\u001b[39m\u001b[39mCharacter Accuracy: \u001b[39m\u001b[39m%.2f\u001b[39;00m\u001b[39m\\n\u001b[39;00m\u001b[39mWord Accuracy: \u001b[39m\u001b[39m%.2f\u001b[39;00m\u001b[39m\"\u001b[39m\u001b[39m%\u001b[39m(ca, wa))\n\u001b[1;32m     <a href='vscode-notebook-cell:/home/tuannm/sonhoang/Vietnamese-OCR-from-scratch-pytorch/notebooks/ocr.ipynb#X30sZmlsZQ%3D%3D?line=10'>11</a>\u001b[0m \u001b[39melse\u001b[39;00m:\n",
      "\u001b[1;32m/home/tuannm/sonhoang/Vietnamese-OCR-from-scratch-pytorch/notebooks/ocr.ipynb Cell 22\u001b[0m line \u001b[0;36m4\n\u001b[1;32m     <a href='vscode-notebook-cell:/home/tuannm/sonhoang/Vietnamese-OCR-from-scratch-pytorch/notebooks/ocr.ipynb#X30sZmlsZQ%3D%3D?line=39'>40</a>\u001b[0m plt\u001b[39m.\u001b[39mshow()\n\u001b[1;32m     <a href='vscode-notebook-cell:/home/tuannm/sonhoang/Vietnamese-OCR-from-scratch-pytorch/notebooks/ocr.ipynb#X30sZmlsZQ%3D%3D?line=40'>41</a>\u001b[0m ca \u001b[39m=\u001b[39m np\u001b[39m.\u001b[39mmean((\u001b[39mlist\u001b[39m(\u001b[39mmap\u001b[39m(evaluator\u001b[39m.\u001b[39mchar_accuracy, \u001b[39mlist\u001b[39m(\u001b[39mzip\u001b[39m(predictions, labels))))))\n\u001b[0;32m---> <a href='vscode-notebook-cell:/home/tuannm/sonhoang/Vietnamese-OCR-from-scratch-pytorch/notebooks/ocr.ipynb#X30sZmlsZQ%3D%3D?line=41'>42</a>\u001b[0m wa \u001b[39m=\u001b[39m np\u001b[39m.\u001b[39mmean((\u001b[39mlist\u001b[39;49m(\u001b[39mmap\u001b[39;49m(evaluator\u001b[39m.\u001b[39;49mword_accuracy_line, \u001b[39mlist\u001b[39;49m(\u001b[39mzip\u001b[39;49m(predictions, labels))))))\n\u001b[1;32m     <a href='vscode-notebook-cell:/home/tuannm/sonhoang/Vietnamese-OCR-from-scratch-pytorch/notebooks/ocr.ipynb#X30sZmlsZQ%3D%3D?line=42'>43</a>\u001b[0m \u001b[39mreturn\u001b[39;00m ca, wa\n",
      "File \u001b[0;32m~/sonhoang/Vietnamese-OCR-from-scratch-pytorch/notebooks/../src/utils/utils.py:231\u001b[0m, in \u001b[0;36mEval.word_accuracy_line\u001b[0;34m(self, pairs)\u001b[0m\n\u001b[1;32m    229\u001b[0m \u001b[39mdef\u001b[39;00m \u001b[39mword_accuracy_line\u001b[39m(\u001b[39mself\u001b[39m, pairs):\n\u001b[1;32m    230\u001b[0m     preds, truths \u001b[39m=\u001b[39m pairs\n\u001b[0;32m--> 231\u001b[0m     word_pairs \u001b[39m=\u001b[39m text_align(preds\u001b[39m.\u001b[39;49msplit(), truths\u001b[39m.\u001b[39;49msplit())\n\u001b[1;32m    232\u001b[0m     word_acc \u001b[39m=\u001b[39m np\u001b[39m.\u001b[39mmean((\u001b[39mlist\u001b[39m(\u001b[39mmap\u001b[39m(\u001b[39mself\u001b[39m\u001b[39m.\u001b[39mword_accuracy, word_pairs))))\n\u001b[1;32m    233\u001b[0m     \u001b[39mreturn\u001b[39;00m word_acc\n",
      "File \u001b[0;32m~/sonhoang/Vietnamese-OCR-from-scratch-pytorch/notebooks/../src/utils/utils.py:92\u001b[0m, in \u001b[0;36mtext_align\u001b[0;34m(prWords, gtWords)\u001b[0m\n\u001b[1;32m     90\u001b[0m \u001b[39mfor\u001b[39;00m i \u001b[39min\u001b[39;00m \u001b[39mrange\u001b[39m(\u001b[39mlen\u001b[39m(prWords)):\n\u001b[1;32m     91\u001b[0m     nn \u001b[39m=\u001b[39m \u001b[39mlist\u001b[39m(\u001b[39mmap\u001b[39m(\u001b[39mlambda\u001b[39;00m x:gtWords[x], np\u001b[39m.\u001b[39margsort(adjMat[i, :])[:\u001b[39m1\u001b[39m])) \n\u001b[0;32m---> 92\u001b[0m     pr_aligned\u001b[39m.\u001b[39mappend((prWords[i], nn[\u001b[39m0\u001b[39;49m]))\n\u001b[1;32m     93\u001b[0m \u001b[39mreturn\u001b[39;00m pr_aligned\n",
      "\u001b[0;31mIndexError\u001b[0m: list index out of range"
     ]
    }
   ],
   "source": [
    "args['imgdir'] = 'val'\n",
    "args['data'] = SynthDataset(args)\n",
    "resume_file = os.path.join(args['save_dir'], args['name'], 'best.ckpt')\n",
    "if os.path.isfile(resume_file):\n",
    "    print('Loading model %s'%resume_file)\n",
    "    checkpoint = torch.load(resume_file)\n",
    "    model.load_state_dict(checkpoint['state_dict'])\n",
    "    args['model'] = model\n",
    "    ca, wa = get_accuracy(args)\n",
    "    print(\"Character Accuracy: %.2f\\nWord Accuracy: %.2f\"%(ca, wa))\n",
    "else:\n",
    "    print(\"=> no checkpoint found at '{}'\".format(os.path.join(args['save_dir'], args['name'])))\n",
    "    print('Exiting')"
   ]
  },
  {
   "cell_type": "code",
   "execution_count": null,
   "metadata": {},
   "outputs": [],
   "source": []
  },
  {
   "cell_type": "code",
   "execution_count": null,
   "metadata": {},
   "outputs": [],
   "source": []
  }
 ],
 "metadata": {
  "kernelspec": {
   "display_name": "Python 3",
   "language": "python",
   "name": "python3"
  },
  "language_info": {
   "codemirror_mode": {
    "name": "ipython",
    "version": 3
   },
   "file_extension": ".py",
   "mimetype": "text/x-python",
   "name": "python",
   "nbconvert_exporter": "python",
   "pygments_lexer": "ipython3",
   "version": "3.10.9"
  }
 },
 "nbformat": 4,
 "nbformat_minor": 4
}
